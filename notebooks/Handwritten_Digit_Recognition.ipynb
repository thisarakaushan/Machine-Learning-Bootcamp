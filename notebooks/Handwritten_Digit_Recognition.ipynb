{
 "cells": [
  {
   "cell_type": "markdown",
   "id": "93b42c1a",
   "metadata": {},
   "source": [
    "import libraries"
   ]
  },
  {
   "cell_type": "code",
   "execution_count": 1,
   "id": "1eba966f",
   "metadata": {},
   "outputs": [],
   "source": [
    "import numpy as np\n",
    "import matplotlib.pyplot as plt # data visualization"
   ]
  },
  {
   "cell_type": "markdown",
   "id": "55a91c82",
   "metadata": {},
   "source": [
    "load the dataset from scikit learn"
   ]
  },
  {
   "cell_type": "code",
   "execution_count": 2,
   "id": "e568bd35",
   "metadata": {},
   "outputs": [],
   "source": [
    "from sklearn.datasets import load_digits\n",
    "\n",
    "dataset = load_digits()"
   ]
  },
  {
   "cell_type": "markdown",
   "id": "e27275e4",
   "metadata": {},
   "source": [
    "summerize the dataset"
   ]
  },
  {
   "cell_type": "code",
   "execution_count": 3,
   "id": "0d8869e5",
   "metadata": {},
   "outputs": [
    {
     "name": "stdout",
     "output_type": "stream",
     "text": [
      "[[ 0.  0.  5. ...  0.  0.  0.]\n",
      " [ 0.  0.  0. ... 10.  0.  0.]\n",
      " [ 0.  0.  0. ... 16.  9.  0.]\n",
      " ...\n",
      " [ 0.  0.  1. ...  6.  0.  0.]\n",
      " [ 0.  0.  2. ... 12.  0.  0.]\n",
      " [ 0.  0. 10. ... 12.  1.  0.]]\n",
      "[0 1 2 ... 8 9 8]\n",
      "(1797, 64)\n",
      "(1797, 8, 8)\n",
      "1797\n"
     ]
    }
   ],
   "source": [
    "print(dataset.data)\n",
    "print(dataset.target)\n",
    "\n",
    "print(dataset.data.shape)\n",
    "print(dataset.images.shape)\n",
    " \n",
    "dataimageLength = len(dataset.images)\n",
    "print(dataimageLength)"
   ]
  },
  {
   "cell_type": "markdown",
   "id": "f327012e",
   "metadata": {},
   "source": [
    "(1797, 64) # 64 mean number of samples\n",
    "\n",
    "(1797, 8, 8) # 8,8 mean 8 rows and 8 columns and 1797 - data"
   ]
  },
  {
   "cell_type": "markdown",
   "id": "0d3ee3e6",
   "metadata": {},
   "source": [
    "visualize the dataset"
   ]
  },
  {
   "cell_type": "code",
   "execution_count": 4,
   "id": "6ccebc60",
   "metadata": {},
   "outputs": [
    {
     "data": {
      "text/plain": [
       "<Figure size 640x480 with 0 Axes>"
      ]
     },
     "metadata": {},
     "output_type": "display_data"
    },
    {
     "data": {
      "image/png": "[encoded data removed]",
      "text/plain": [
       "<Figure size 480x480 with 1 Axes>"
      ]
     },
     "metadata": {},
     "output_type": "display_data"
    },
    {
     "data": {
      "text/plain": [
       "array([[ 0.,  0.,  0.,  3., 12., 12.,  2.,  0.],\n",
       "       [ 0.,  0.,  7., 15., 16., 16.,  0.,  0.],\n",
       "       [ 0.,  4., 15.,  9., 14., 16.,  3.,  0.],\n",
       "       [ 0.,  2.,  0.,  0., 14., 16.,  0.,  0.],\n",
       "       [ 0.,  0.,  0.,  0., 14., 16.,  0.,  0.],\n",
       "       [ 0.,  0.,  0.,  0., 15., 13.,  0.,  0.],\n",
       "       [ 0.,  0.,  0.,  0., 16., 14.,  1.,  0.],\n",
       "       [ 0.,  0.,  0.,  3., 16., 13.,  2.,  0.]])"
      ]
     },
     "execution_count": 4,
     "metadata": {},
     "output_type": "execute_result"
    }
   ],
   "source": [
    "n = 1500 # number of samples out of total 1797\n",
    "# customizing the n vales(n<=1797) we can get difference images according to the digit\n",
    "\n",
    "plt.gray()\n",
    "plt.matshow(dataset.images[n])\n",
    "plt.show()\n",
    "\n",
    "dataset.images[n]"
   ]
  },
  {
   "cell_type": "markdown",
   "id": "53eccade",
   "metadata": {},
   "source": [
    "seggregate data into x(input/independent variable) and y(output/dependent variable)\n",
    "\n",
    "input will be pixel and output will be class"
   ]
  },
  {
   "cell_type": "code",
   "execution_count": 6,
   "id": "308daaf7",
   "metadata": {},
   "outputs": [
    {
     "data": {
      "text/plain": [
       "array([[ 0.,  0.,  5., ...,  0.,  0.,  0.],\n",
       "       [ 0.,  0.,  0., ..., 10.,  0.,  0.],\n",
       "       [ 0.,  0.,  0., ..., 16.,  9.,  0.],\n",
       "       ...,\n",
       "       [ 0.,  0.,  1., ...,  6.,  0.,  0.],\n",
       "       [ 0.,  0.,  2., ..., 12.,  0.,  0.],\n",
       "       [ 0.,  0., 10., ..., 12.,  1.,  0.]])"
      ]
     },
     "execution_count": 6,
     "metadata": {},
     "output_type": "execute_result"
    }
   ],
   "source": [
    "x = dataset.images.reshape((dataimageLength, -1))\n",
    "x"
   ]
  },
  {
   "cell_type": "code",
   "execution_count": 7,
   "id": "e9315487",
   "metadata": {},
   "outputs": [
    {
     "data": {
      "text/plain": [
       "array([0, 1, 2, ..., 8, 9, 8])"
      ]
     },
     "execution_count": 7,
     "metadata": {},
     "output_type": "execute_result"
    }
   ],
   "source": [
    "y = dataset.target\n",
    "y"
   ]
  },
  {
   "cell_type": "markdown",
   "id": "a057704e",
   "metadata": {},
   "source": [
    "spliiting dataset into train and test"
   ]
  },
  {
   "cell_type": "code",
   "execution_count": 9,
   "id": "213d1c88",
   "metadata": {},
   "outputs": [
    {
     "name": "stdout",
     "output_type": "stream",
     "text": [
      "(1347, 64)\n",
      "(450, 64)\n"
     ]
    }
   ],
   "source": [
    "from sklearn.model_selection import train_test_split\n",
    "\n",
    "x_train, x_test, y_train, y_test = train_test_split(x, y, test_size = 0.25, random_state = 0)\n",
    "print(x_train.shape)\n",
    "print(x_test.shape)"
   ]
  },
  {
   "cell_type": "markdown",
   "id": "edcbf183",
   "metadata": {},
   "source": [
    "training the model"
   ]
  },
  {
   "cell_type": "code",
   "execution_count": 10,
   "id": "35e3d7d2",
   "metadata": {},
   "outputs": [
    {
     "data": {
      "text/plain": [
       "SVC(gamma=0.001)"
      ]
     },
     "execution_count": 10,
     "metadata": {},
     "output_type": "execute_result"
    }
   ],
   "source": [
    "from sklearn import svm\n",
    "\n",
    "model = svm.SVC(gamma=0.001)\n",
    "model.fit(x_train, y_train)"
   ]
  },
  {
   "cell_type": "markdown",
   "id": "8d34bfe5",
   "metadata": {},
   "source": [
    "predicting what the digit is from test data"
   ]
  },
  {
   "cell_type": "code",
   "execution_count": 11,
   "id": "fd761f71",
   "metadata": {},
   "outputs": [],
   "source": [
    "y_pred = model.predict(x_test)"
   ]
  },
  {
   "cell_type": "code",
   "execution_count": 12,
   "id": "d0be078f",
   "metadata": {},
   "outputs": [
    {
     "name": "stdout",
     "output_type": "stream",
     "text": [
      "Accuracy of the model: 99.5556%\n"
     ]
    }
   ],
   "source": [
    "from sklearn.metrics import accuracy_score\n",
    "\n",
    "print(\"Accuracy of the model: {:.4f}%\".format(accuracy_score(y_test, y_pred)*100))"
   ]
  },
  {
   "cell_type": "code",
   "execution_count": 16,
   "id": "227f4ab4",
   "metadata": {},
   "outputs": [
    {
     "name": "stdout",
     "output_type": "stream",
     "text": [
      "[9]\n",
      "\n",
      "\n"
     ]
    },
    {
     "data": {
      "image/png": "[encoded data removed]",
      "text/plain": [
       "<Figure size 640x480 with 1 Axes>"
      ]
     },
     "metadata": {},
     "output_type": "display_data"
    }
   ],
   "source": [
    "n = 199\n",
    "res = model.predict(dataset.images[n].reshape((1, -1)))\n",
    "plt.imshow(dataset.images[n], cmap=plt.cm.gray_r, interpolation='nearest')\n",
    "print(res)\n",
    "print(\"\\n\")\n",
    "plt.axis('off')\n",
    "plt.title('%i' % res)\n",
    "plt.show()"
   ]
  },
  {
   "cell_type": "markdown",
   "id": "4fb93d72",
   "metadata": {},
   "source": [
    "try with different method"
   ]
  },
  {
   "cell_type": "code",
   "execution_count": 17,
   "id": "a428f9b4",
   "metadata": {},
   "outputs": [
    {
     "name": "stdout",
     "output_type": "stream",
     "text": [
      "Accuracy of the model 1: 97.11111111111111%\n",
      "Accuracy of the model 2: 99.55555555555556%\n",
      "Accuracy of the model 3: 96.66666666666667%\n"
     ]
    }
   ],
   "source": [
    "model1 = svm.SVC(kernel='linear')\n",
    "model2 = svm.SVC(gamma=0.001)\n",
    "model3 = svm.SVC(gamma=0.001, C=0.1)\n",
    "\n",
    "model1.fit(x_train, y_train)\n",
    "model2.fit(x_train, y_train)\n",
    "model3.fit(x_train, y_train)\n",
    "\n",
    "y_predModel1 = model1.predict(x_test)\n",
    "y_predModel2 = model2.predict(x_test)\n",
    "y_predModel3 = model3.predict(x_test)\n",
    "\n",
    "print(\"Accuracy of the model 1: {0}%\".format(accuracy_score(y_test, y_predModel1)*100))\n",
    "print(\"Accuracy of the model 2: {0}%\".format(accuracy_score(y_test, y_predModel2)*100))\n",
    "print(\"Accuracy of the model 3: {0}%\".format(accuracy_score(y_test, y_predModel3)*100))"
   ]
  },
  {
   "cell_type": "code",
   "execution_count": null,
   "id": "509d1800",
   "metadata": {},
   "outputs": [],
   "source": []
  }
 ],
 "metadata": {
  "kernelspec": {
   "display_name": "Python 3 (ipykernel)",
   "language": "python",
   "name": "python3"
  },
  "language_info": {
   "codemirror_mode": {
    "name": "ipython",
    "version": 3
   },
   "file_extension": ".py",
   "mimetype": "text/x-python",
   "name": "python",
   "nbconvert_exporter": "python",
   "pygments_lexer": "ipython3",
   "version": "3.9.13"
  }
 },
 "nbformat": 4,
 "nbformat_minor": 5
}
